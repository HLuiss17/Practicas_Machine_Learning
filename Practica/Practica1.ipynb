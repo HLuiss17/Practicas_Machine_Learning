{
 "cells": [
  {
   "cell_type": "markdown",
   "id": "097ddd9b-d28a-4737-895d-774730e336b5",
   "metadata": {},
   "source": [
    "# FICHEROS\n",
    "### os.getcwd()\n",
    "Esta funcion muestra la carpeta actual donde se esta ejecutando el programa"
   ]
  },
  {
   "cell_type": "code",
   "execution_count": 1,
   "id": "d401bb6c-bd96-4c41-ae23-f4ea31d7ab3f",
   "metadata": {},
   "outputs": [
    {
     "name": "stdout",
     "output_type": "stream",
     "text": [
      "C:\\Users\\USER\\Desktop\\MachineLearningPracticas\\Practica\n"
     ]
    }
   ],
   "source": [
    "import os\n",
    "print(os.getcwd())\n"
   ]
  },
  {
   "cell_type": "markdown",
   "id": "d891abdc-e30a-408f-a9f2-40c4df39edc4",
   "metadata": {},
   "source": [
    "## creamos un archivo"
   ]
  },
  {
   "cell_type": "code",
   "execution_count": 8,
   "id": "a289f37f-0169-4bea-95cf-0c249664d65c",
   "metadata": {},
   "outputs": [],
   "source": [
    "# Crear el archivo con contenido de prueba\n",
    "with open('data.txt', 'w') as file:\n",
    "    file.write(\"Hola, este es un archivo de prueba.\\nSegunda línea de texto0.\")\n"
   ]
  },
  {
   "cell_type": "markdown",
   "id": "a2f4b656-0dc6-44b1-a51d-a4d327868e39",
   "metadata": {},
   "source": [
    "### Leer un archivo desde Python"
   ]
  },
  {
   "cell_type": "code",
   "execution_count": 12,
   "id": "c90f8dd5-d77c-499c-80b1-a912fd42e6ec",
   "metadata": {},
   "outputs": [
    {
     "name": "stdout",
     "output_type": "stream",
     "text": [
      "Hola, este es un archivo de prueba.\n",
      "Segunda línea de texto0.\n"
     ]
    }
   ],
   "source": [
    "with open('data.txt', 'r') as file:\n",
    "    texto = file.read()\n",
    "    print(texto)\n",
    "    file.close() #cerrar el archivo"
   ]
  },
  {
   "cell_type": "code",
   "execution_count": 16,
   "id": "08b7e940-1988-457d-8d06-9aa2d4187244",
   "metadata": {},
   "outputs": [
    {
     "name": "stdout",
     "output_type": "stream",
     "text": [
      "['Hola\\n', 'suscribete']\n"
     ]
    }
   ],
   "source": [
    "file = open('data2.txt', 'r')\n",
    "lineas = file.readlines()\n",
    "print(lineas)\n",
    "file.close()"
   ]
  },
  {
   "cell_type": "code",
   "execution_count": 17,
   "id": "bab99579-ae36-4b7f-aa60-871fef36d469",
   "metadata": {},
   "outputs": [
    {
     "name": "stdout",
     "output_type": "stream",
     "text": [
      "C:\\Users\\USER\\Desktop\\MachineLearningPracticas\\Practica\n"
     ]
    }
   ],
   "source": [
    "print(os.getcwd())"
   ]
  },
  {
   "cell_type": "code",
   "execution_count": 19,
   "id": "92770a74-06c8-460a-a3fe-4fe73d4e239c",
   "metadata": {},
   "outputs": [],
   "source": [
    "\n",
    "#creamoes el archivo 'w'\n",
    "with open('data3.txt', 'w') as file:\n",
    "    file.write(\"Java\")"
   ]
  },
  {
   "cell_type": "code",
   "execution_count": 22,
   "id": "e0de1000-413a-4f86-96a2-fd3dc7956a19",
   "metadata": {},
   "outputs": [
    {
     "name": "stdout",
     "output_type": "stream",
     "text": [
      "['Java\\n', 'Python\\n', 'c#\\n', 'JavaScript\\n', 'PHP\\n', 'Kottlin\\n', 'Ruby']\n"
     ]
    }
   ],
   "source": [
    "#Leemos el archivo 'r'\n",
    "with open('data3.txt', 'r') as leer_archivo:\n",
    "    lectura = leer_archivo.readlines()\n",
    "    print(lectura)"
   ]
  },
  {
   "cell_type": "code",
   "execution_count": 23,
   "id": "6e975b61-feea-4112-a184-f0019d0f0b18",
   "metadata": {},
   "outputs": [
    {
     "name": "stdout",
     "output_type": "stream",
     "text": [
      "['Java\\n', 'Python\\n', 'c#\\n', 'JavaScript\\n', 'PHP\\n', 'Kottlin\\n', 'Ruby']\n"
     ]
    }
   ],
   "source": [
    "print(lectura)"
   ]
  },
  {
   "cell_type": "code",
   "execution_count": 25,
   "id": "90b0cbe0-4868-448d-ba30-2e946bcf3323",
   "metadata": {},
   "outputs": [
    {
     "name": "stdout",
     "output_type": "stream",
     "text": [
      "Java\n",
      "Python\n",
      "c#\n",
      "JavaScript\n",
      "PHP\n",
      "Kottlin\n",
      "Ruby\n"
     ]
    }
   ],
   "source": [
    "# organizar datos coon un for leer tal como se visualiza en el .txt\n",
    "# 'l' remplaza\n",
    "for l in lectura:\n",
    "    print(l.replace('\\n', ''))"
   ]
  },
  {
   "cell_type": "code",
   "execution_count": 28,
   "id": "a68263cd-68a6-4638-bc1b-90ab25defe6b",
   "metadata": {},
   "outputs": [
    {
     "name": "stdout",
     "output_type": "stream",
     "text": [
      "['Java', 'Python', 'c#', 'JavaScript', 'PHP', 'Kottlin', 'Ruby']\n"
     ]
    }
   ],
   "source": [
    "with open('data3.txt', 'r') as archivo:\n",
    "    contenido = archivo.read()\n",
    "    lineas = contenido.split('\\n')\n",
    "    print(lineas)"
   ]
  },
  {
   "cell_type": "code",
   "execution_count": null,
   "id": "57bc4109-74ca-4883-95c8-23d3651201ac",
   "metadata": {},
   "outputs": [],
   "source": []
  }
 ],
 "metadata": {
  "kernelspec": {
   "display_name": "Python 3 (ipykernel)",
   "language": "python",
   "name": "python3"
  },
  "language_info": {
   "codemirror_mode": {
    "name": "ipython",
    "version": 3
   },
   "file_extension": ".py",
   "mimetype": "text/x-python",
   "name": "python",
   "nbconvert_exporter": "python",
   "pygments_lexer": "ipython3",
   "version": "3.13.5"
  }
 },
 "nbformat": 4,
 "nbformat_minor": 5
}
