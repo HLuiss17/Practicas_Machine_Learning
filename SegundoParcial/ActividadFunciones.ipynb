{
 "cells": [
  {
   "attachments": {},
   "cell_type": "markdown",
   "id": "875e0aef-4db2-444d-9376-9e3abbfbc60e",
   "metadata": {},
   "source": [
    "<img src=\"../img/LogoItq.PNG\">"
   ]
  },
  {
   "cell_type": "markdown",
   "id": "d349ed91-b3c1-49e2-95b1-010e4fcd5f80",
   "metadata": {},
   "source": [
    "# 01 PAO25-25 - PYTHON, Data Types"
   ]
  },
  {
   "cell_type": "markdown",
   "id": "024a2dfe-655e-4b9c-b4a0-7c5d7ad339c4",
   "metadata": {},
   "source": [
    "<img src=\"../img/PortadaPython.png\">"
   ]
  },
  {
   "cell_type": "markdown",
   "id": "a1c2bba5-79d4-4997-b045-9d8ac5f31748",
   "metadata": {},
   "source": [
    "*Luis Pilaguano*"
   ]
  },
  {
   "cell_type": "markdown",
   "id": "8f0e3381-ed82-480b-9d97-d23a4b31dadc",
   "metadata": {},
   "source": [
    "# FUNCIONES"
   ]
  },
  {
   "cell_type": "markdown",
   "id": "0772dc06-3989-49b8-8d95-e514c246a892",
   "metadata": {},
   "source": [
    "1.- Escribe una función que reciba como entrada una lista con números y devuelva como resultado una lista con los cuadrados de los números contenidos en la lista de entrada."
   ]
  },
  {
   "cell_type": "code",
   "execution_count": 15,
   "id": "803f882b-9acc-46d7-95d0-013964b37212",
   "metadata": {},
   "outputs": [],
   "source": [
    "def list_Numeros(numeros):\n",
    "    cuadrados = []\n",
    "    for num in numeros:\n",
    "        cuadrados.append(num ** 2)\n",
    "    return cuadrados\n",
    "    "
   ]
  },
  {
   "cell_type": "code",
   "execution_count": 17,
   "id": "8f47c164-4a19-4729-96cb-48c769261384",
   "metadata": {},
   "outputs": [
    {
     "name": "stdout",
     "output_type": "stream",
     "text": [
      "[1, 4, 9, 16, 25, 36]\n"
     ]
    }
   ],
   "source": [
    "listanumerica = [1,2,3,4,5,6]\n",
    "listas = list_Numeros(listanumerica)\n",
    "print(listas)"
   ]
  },
  {
   "cell_type": "markdown",
   "id": "7fb6f797-4f1b-47b5-ae6e-0bc80f13eb0e",
   "metadata": {},
   "source": [
    "2.- Escribe una función que reciba números como entrada y devuelva la suma de los mismos. La función debe ser capaz de recibir una cantidad indeterminada de números. La función no debe recibir directamente ningún objeto complejo (lista, conjunto, etc.)."
   ]
  },
  {
   "cell_type": "code",
   "execution_count": 19,
   "id": "6deda731-e231-4c2e-a1f2-477fcb480ef4",
   "metadata": {},
   "outputs": [],
   "source": [
    "def suma_num (*valor):\n",
    "    suma = 0\n",
    "    for num in valor:\n",
    "        suma += num\n",
    "    return suma\n",
    "    \n",
    "    "
   ]
  },
  {
   "cell_type": "code",
   "execution_count": 21,
   "id": "76f70e0c-bf15-44b1-a959-689a752b127b",
   "metadata": {},
   "outputs": [
    {
     "name": "stdout",
     "output_type": "stream",
     "text": [
      "10\n",
      "308.38\n"
     ]
    }
   ],
   "source": [
    "print(suma_num(1,2,3,4))\n",
    "print(suma_num(100,2.5,5.88,200))\n"
   ]
  },
  {
   "cell_type": "markdown",
   "id": "184820c0-9d42-4c11-abe7-4dd76e995836",
   "metadata": {},
   "source": [
    "3.- Escribe una función que reciba un string como entrada y devuelva el string al revés. Ejemplo: si el string de entrada es 'hola', el resultado será 'aloh'."
   ]
  },
  {
   "cell_type": "code",
   "execution_count": 30,
   "id": "913de928-8586-4160-bf79-787724b04509",
   "metadata": {},
   "outputs": [],
   "source": [
    "def dato_str (palabra):\n",
    "    dato = palabra[::-1]\n",
    "    return dato"
   ]
  },
  {
   "cell_type": "code",
   "execution_count": 32,
   "id": "0b00e3d1-d778-4fdf-8e96-26cee55566c4",
   "metadata": {},
   "outputs": [
    {
     "name": "stdout",
     "output_type": "stream",
     "text": [
      "aloh\n",
      "nóicamargorP\n"
     ]
    }
   ],
   "source": [
    "palabra = \"hola\"\n",
    "print(dato_str(palabra))\n",
    "palabra2 = \"Programación\"\n",
    "print(dato_str(palabra2))"
   ]
  },
  {
   "cell_type": "markdown",
   "id": "0f7fa938-3d79-4aea-aa7f-d13c21eaea6b",
   "metadata": {},
   "source": [
    "4.- Escribe una función lambda que, al igual que la función desarrollada en el ejercicio anterior, invierta el string recibido como parámetro. Ejemplo: si el string de entrada es 'hola', el resultado será 'aloh'."
   ]
  },
  {
   "cell_type": "code",
   "execution_count": 38,
   "id": "6d775b45-07cf-4bfe-9e9e-cd1690e184ea",
   "metadata": {},
   "outputs": [],
   "source": [
    "dato_str_lamb = lambda  dato : dato[::-1]"
   ]
  },
  {
   "cell_type": "code",
   "execution_count": 39,
   "id": "24eb26a2-639e-4da6-a2c8-eccf72798d37",
   "metadata": {},
   "outputs": [
    {
     "name": "stdout",
     "output_type": "stream",
     "text": [
      "aloh\n",
      "nóicamargorP\n"
     ]
    }
   ],
   "source": [
    "palabra1 = \"hola\"\n",
    "print(dato_str_lamb(palabra1))\n",
    "palabra2 = \"Programación\"\n",
    "print(dato_str_lamb(palabra2))"
   ]
  },
  {
   "cell_type": "markdown",
   "id": "c659560a-4b57-49b4-86ff-b13167fe4e0d",
   "metadata": {},
   "source": [
    "5.- Escribe una función que compruebe si un número se encuentra dentro de un rango específico."
   ]
  },
  {
   "cell_type": "code",
   "execution_count": 42,
   "id": "c61ec431-1987-4085-8e3b-93faf67f6396",
   "metadata": {},
   "outputs": [],
   "source": [
    "def num_rango(valor):\n",
    "    if valor >= 0 and valor <= 10:\n",
    "        print(f\"El número {valor}, si se encuentra dentro del rango\")\n",
    "    else:\n",
    "        print(f\"El número {valor}, se encuentra fuera del rango\")\n",
    "    return valor"
   ]
  },
  {
   "cell_type": "code",
   "execution_count": 43,
   "id": "5683f9fe-0bd4-4b7c-aaf9-7cf38b666c40",
   "metadata": {},
   "outputs": [
    {
     "name": "stdout",
     "output_type": "stream",
     "text": [
      "El número 10, si se encuentra dentro del rango\n",
      "10\n",
      "El número 11, se encuentra fuera del rango\n",
      "11\n"
     ]
    }
   ],
   "source": [
    "valor1 = 10\n",
    "valor2 = 11\n",
    "print(num_rango(valor1))\n",
    "print(num_rango(valor2))"
   ]
  },
  {
   "cell_type": "markdown",
   "id": "810e7dcf-b236-44f3-8c47-7a7233371959",
   "metadata": {},
   "source": [
    "6.- Escribe una función que reciba un número entero positivo como parámetro y devuelva una lista que contenga los 5 primeros múltiplos de dicho número. Por ejemplo, si la función recibe el número 3, devolverá la lista [3, 6, 9, 12, 15]. Si la función recibe un parámetro incorrecto (por ejemplo, un múmero menor o igual a cero), mostrará un mensaje de error por pantalla y devolverá una lista vacía."
   ]
  },
  {
   "cell_type": "code",
   "execution_count": 52,
   "id": "0121d1d3-bd01-4bb4-ba92-3cc95fe84069",
   "metadata": {},
   "outputs": [
    {
     "name": "stdout",
     "output_type": "stream",
     "text": [
      "[5, 10, 15, 20, 25]\n"
     ]
    }
   ],
   "source": [
    "def num_rango(valor):\n",
    "    lista = []\n",
    "    if valor > 0:\n",
    "        for i in range(1, 6):\n",
    "            lista.append(valor * i)\n",
    "    else:\n",
    "        print(f\"El número {valor} no es válido (debe ser mayor que cero).\")\n",
    "    return lista\n",
    "\n",
    "# Ejemplo\n",
    "dato = 5\n",
    "lista = num_rango(dato)\n",
    "print(lista)\n"
   ]
  },
  {
   "cell_type": "markdown",
   "id": "b954462a-6bec-4f13-9c72-e7ec8dd30a86",
   "metadata": {},
   "source": [
    "7.- Escribe una función que reciba una lista como parámetro y compruebe si la lista tiene duplicados. La función devolverá True si la lista tiene duplicados y False si no los tiene."
   ]
  },
  {
   "cell_type": "code",
   "execution_count": 53,
   "id": "292cb19c-b67c-42eb-8fb1-444e070e6a7a",
   "metadata": {},
   "outputs": [],
   "source": [
    "def tiene_duplicados(lista):\n",
    "    return len(lista) != len(set(lista))\n"
   ]
  },
  {
   "cell_type": "code",
   "execution_count": 54,
   "id": "fb8c1586-20bd-4cec-9c49-b59a66f8b73d",
   "metadata": {},
   "outputs": [
    {
     "name": "stdout",
     "output_type": "stream",
     "text": [
      "False\n",
      "True\n"
     ]
    }
   ],
   "source": [
    "print(tiene_duplicados([1, 2, 3, 4]))       \n",
    "print(tiene_duplicados([1, 2, 2, 4, 5]))    \n"
   ]
  },
  {
   "cell_type": "markdown",
   "id": "ee4b5a89-0dba-439b-a050-b8bd2486b080",
   "metadata": {},
   "source": [
    "8.- Escribe una función lambda que, al igual que la función desarrollada en el ejercicio anterior, reciba una lista como parámetro y compruebe si la lista tiene duplicados. La función devolverá True si la lista tiene duplicados y False si no los tiene.\n",
    "\n"
   ]
  },
  {
   "cell_type": "code",
   "execution_count": 55,
   "id": "50174cbb-09f1-4c99-a18f-ee830b7a5e29",
   "metadata": {},
   "outputs": [
    {
     "name": "stdout",
     "output_type": "stream",
     "text": [
      "False\n",
      "True\n"
     ]
    }
   ],
   "source": [
    "tiene_duplicados = lambda lista: len(lista) != len(set(lista))\n",
    "print(tiene_duplicados([1, 2, 3]))       \n",
    "print(tiene_duplicados([1, 2, 2, 4]))    \n"
   ]
  },
  {
   "cell_type": "markdown",
   "id": "89a8db32-cff9-4dab-8fba-d9d2f80a91b1",
   "metadata": {},
   "source": [
    "9.- Escribe una función que compruebe si un string dado es un palíndromo. Un palíndromo es una secuencia de caracteres que se lee igual de izquierda a derecha que de derecha a izquierda. Por ejemplo, la función devolverá True si recibe el string \"reconocer\" y False si recibe el string \"python\"."
   ]
  },
  {
   "cell_type": "code",
   "execution_count": 56,
   "id": "b2b36c4c-a606-4eb1-a0fa-2ccc51edc370",
   "metadata": {},
   "outputs": [],
   "source": [
    "def palindromo(texto):\n",
    "    return texto == texto[::-1]\n"
   ]
  },
  {
   "cell_type": "code",
   "execution_count": 57,
   "id": "ab6ad164-53f4-4e19-a638-b455d9002def",
   "metadata": {},
   "outputs": [
    {
     "name": "stdout",
     "output_type": "stream",
     "text": [
      "True\n",
      "False\n"
     ]
    }
   ],
   "source": [
    "print(palindromo(\"reconocer\"))  \n",
    "print(palindromo(\"python\"))    \n"
   ]
  },
  {
   "cell_type": "code",
   "execution_count": null,
   "id": "e05256d9-5d55-4a02-ba0b-15cb80e7b4ed",
   "metadata": {},
   "outputs": [],
   "source": []
  }
 ],
 "metadata": {
  "kernelspec": {
   "display_name": "Python 3 (ipykernel)",
   "language": "python",
   "name": "python3"
  },
  "language_info": {
   "codemirror_mode": {
    "name": "ipython",
    "version": 3
   },
   "file_extension": ".py",
   "mimetype": "text/x-python",
   "name": "python",
   "nbconvert_exporter": "python",
   "pygments_lexer": "ipython3",
   "version": "3.13.5"
  }
 },
 "nbformat": 4,
 "nbformat_minor": 5
}
