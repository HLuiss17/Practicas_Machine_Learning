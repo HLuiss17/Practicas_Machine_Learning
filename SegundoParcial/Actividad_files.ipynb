{
 "cells": [
  {
   "cell_type": "markdown",
   "id": "8e64118d-6c02-4a1d-a732-5b5608a2c7c1",
   "metadata": {},
   "source": [
    "<img src=\"../img/LogoItq.PNG\">"
   ]
  },
  {
   "cell_type": "markdown",
   "id": "252c3d74-50f2-4c82-90f5-955af8961593",
   "metadata": {},
   "source": [
    "# 01 PAO25-25 - PYTHON, Data Types"
   ]
  },
  {
   "cell_type": "markdown",
   "id": "cf65115d-f154-4e8e-9c91-ba6fd4c2cfc5",
   "metadata": {},
   "source": [
    "<img src=\"../img/PortadaPython.png\">"
   ]
  },
  {
   "cell_type": "markdown",
   "id": "cadf0d06-7a7d-4700-adb9-a073216a1916",
   "metadata": {},
   "source": [
    "*Luis Pilaguano*"
   ]
  },
  {
   "cell_type": "markdown",
   "id": "89f8b7e0-1c14-4911-ae07-0d24630be487",
   "metadata": {},
   "source": [
    "## Ficheros"
   ]
  },
  {
   "cell_type": "markdown",
   "id": "df87d100-8d22-4398-b1c1-bbbfe1c871dd",
   "metadata": {},
   "source": [
    "### Ejercicios"
   ]
  },
  {
   "cell_type": "markdown",
   "id": "9dd1d4c7-d09d-4c58-9577-9546947f9d77",
   "metadata": {},
   "source": [
    "1.- Escribe una función que reciba una ruta de un fichero de texto y una cadena de caracteres a buscar y determine si la cadena aparece en el fichero."
   ]
  },
  {
   "cell_type": "code",
   "execution_count": 2,
   "id": "9f956dbc-0661-4c3f-b4b5-14983f47a781",
   "metadata": {},
   "outputs": [],
   "source": [
    "# creamos un archivo,txt\n",
    "with open('archivo.txt', 'w') as file:\n",
    "    file.write('Hola Mundo')"
   ]
  },
  {
   "cell_type": "code",
   "execution_count": 12,
   "id": "01c752bb-88a7-4911-a7de-f6364cc3f87b",
   "metadata": {},
   "outputs": [],
   "source": [
    "def buscar_cadena(ruta, cadena):\n",
    "    try:\n",
    "        archivo = open(ruta, 'r')\n",
    "        texto = archivo.read()\n",
    "        archivo.close()\n",
    "        \n",
    "        if cadena in texto:\n",
    "            return True\n",
    "        else:\n",
    "            return False\n",
    "    except:\n",
    "        print(\"No se pudo abrir el archivo.\")\n",
    "        return False\n"
   ]
  },
  {
   "cell_type": "code",
   "execution_count": 13,
   "id": "6ada4ccb-5631-4ec0-b691-2278fe5c6b7e",
   "metadata": {},
   "outputs": [
    {
     "name": "stdout",
     "output_type": "stream",
     "text": [
      "La palabra está en el archivo.\n"
     ]
    }
   ],
   "source": [
    "if buscar_cadena('archivo.txt', 'Hola'):\n",
    "    print(\"La palabra está en el archivo.\")\n",
    "else:\n",
    "    print(\"La palabra NO está en el archivo.\")\n"
   ]
  },
  {
   "cell_type": "markdown",
   "id": "5295b351-07c9-45f5-9e4b-8e124e96d8d7",
   "metadata": {},
   "source": [
    "2.- Escribe una función que reciba una lista, una ruta destino y un número n. La función debe crear un fichero en la ruta especificada. El contenido del fichero serán los primeros n elementos de la lista. La función debe controlar de manera apropiada los posibles valores de n que estén fuera de rango."
   ]
  },
  {
   "cell_type": "code",
   "execution_count": 14,
   "id": "39ba431b-cd4a-4d12-b9e6-08f6333764fc",
   "metadata": {},
   "outputs": [],
   "source": [
    "def guardar_lista(lista, ruta, n):\n",
    "    if n < 0:\n",
    "        print(\"n no puede ser negativo.\")\n",
    "        return\n",
    "    if n > len(lista):\n",
    "        n = len(lista)\n",
    "\n",
    "    archivo = open(ruta, 'w')\n",
    "    for i in range(n):\n",
    "        archivo.write(str(lista[i]) + '\\n')\n",
    "    archivo.close()\n",
    "\n",
    "    print(\"Archivo creado con éxito.\")\n"
   ]
  },
  {
   "cell_type": "code",
   "execution_count": 18,
   "id": "56cec0bc-2852-4e3a-8de3-27dacce144d5",
   "metadata": {},
   "outputs": [
    {
     "name": "stdout",
     "output_type": "stream",
     "text": [
      "Archivo creado con éxito.\n"
     ]
    }
   ],
   "source": [
    "mi_lista = [10, 20, 30, 40, 50]\n",
    "guardar_lista(mi_lista, 'numeros1.txt', 4 )\n"
   ]
  },
  {
   "cell_type": "markdown",
   "id": "22399882-bf1b-42c4-92a0-91b665c2a797",
   "metadata": {},
   "source": [
    "3.- Escribe una función que reciba una ruta de un fichero de texto devuelva un diccionario con la frecuencia de aparición de cada palabra. Ejemplo: un fichero que contenga la frase 'es mejor que venga que que no venga' devolverá el siguiente diccionario: {'es' : 1, 'mejor' : 1, 'que' : 3, 'venga' : 2, 'no' : 1}. Para dividir un string en palabras puedes hacer uso del método split."
   ]
  },
  {
   "cell_type": "code",
   "execution_count": 21,
   "id": "72b9b05c-4073-40f1-afc7-b85543ff19d8",
   "metadata": {},
   "outputs": [],
   "source": [
    "def contar_palabras(ruta):\n",
    "    try:\n",
    "        with open(ruta, 'r') as f:\n",
    "            palabras = f.read().split()\n",
    "            return {p: palabras.count(p) for p in set(palabras)}\n",
    "    except:\n",
    "        print(\"No se pudo abrir el archivo.\")\n",
    "        return {}\n"
   ]
  },
  {
   "cell_type": "code",
   "execution_count": 25,
   "id": "0ac8f9f4-28d7-4540-bd89-ffc8d6449c12",
   "metadata": {},
   "outputs": [
    {
     "name": "stdout",
     "output_type": "stream",
     "text": [
      "{'mejor': 1, 'venga': 2, 'es': 1, 'no': 1, 'que': 3}\n"
     ]
    }
   ],
   "source": [
    "print(contar_palabras('frase.txt'))\n"
   ]
  },
  {
   "cell_type": "code",
   "execution_count": null,
   "id": "a68a3228-9a68-4847-ad6e-1b532b2b0a3d",
   "metadata": {},
   "outputs": [],
   "source": [
    "[GitHub Ficheros]()"
   ]
  }
 ],
 "metadata": {
  "kernelspec": {
   "display_name": "Python 3 (ipykernel)",
   "language": "python",
   "name": "python3"
  },
  "language_info": {
   "codemirror_mode": {
    "name": "ipython",
    "version": 3
   },
   "file_extension": ".py",
   "mimetype": "text/x-python",
   "name": "python",
   "nbconvert_exporter": "python",
   "pygments_lexer": "ipython3",
   "version": "3.13.5"
  }
 },
 "nbformat": 4,
 "nbformat_minor": 5
}
