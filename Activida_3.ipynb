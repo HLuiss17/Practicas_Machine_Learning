{
 "cells": [
  {
   "cell_type": "markdown",
   "id": "f51f08c6-65cc-4b52-a6f7-29805d14b5f0",
   "metadata": {},
   "source": [
    "<img src=\"img/LogoItq.PNG\">"
   ]
  },
  {
   "cell_type": "markdown",
   "id": "577d5dad-de55-4dc0-a70c-4eda08150b69",
   "metadata": {},
   "source": [
    "# 01 PAO25-25 - PYTHON, Data Types"
   ]
  },
  {
   "cell_type": "markdown",
   "id": "73622f08-749e-4111-adf0-c128a89b190c",
   "metadata": {},
   "source": [
    "<img src=\"img/PortadaPython.png\">"
   ]
  },
  {
   "cell_type": "markdown",
   "id": "ac1d6844-1a27-4f93-93fd-1a3d2d6c01fc",
   "metadata": {},
   "source": [
    "*Luis Pilaguano*"
   ]
  },
  {
   "cell_type": "markdown",
   "id": "9f1339b8-7ab7-4f33-85b9-8f3b06cbc235",
   "metadata": {},
   "source": [
    "### Ejercicios\n",
    "1.- Escribe un programa que muestre por pantalla la concatenación de un número y una cadena de caracteres. Para obtener esta concatenación puedes usar uno de los operadores explicados en este tema. Ejemplo: dado el número 3 y la cadena 'abc', el programa mostrará la cadena '3abc'.\n",
    "\n"
   ]
  },
  {
   "cell_type": "code",
   "execution_count": 3,
   "id": "9de80c96-b652-4bd7-9e2b-cf80251518df",
   "metadata": {},
   "outputs": [
    {
     "name": "stdout",
     "output_type": "stream",
     "text": [
      "Resultado de la concatenación: 17abc\n"
     ]
    }
   ],
   "source": [
    "numeros = 17\n",
    "cadena = 'abc'\n",
    "numero_Cadena = str(numeros) + cadena\n",
    "print('Resultado de la concatenación: '+ numero_Cadena)"
   ]
  },
  {
   "cell_type": "markdown",
   "id": "92d3c6c8-f2ad-4d47-806b-8a58ba665394",
   "metadata": {},
   "source": [
    "2.- Escribe un programa que muestre por pantalla un valor booleano que indique si un número entero N está contenido en un intervalo semiabierto [a,b), el cual establece una cota inferior a (inclusive) y una cota superior b (exclusive) para N."
   ]
  },
  {
   "cell_type": "code",
   "execution_count": 13,
   "id": "3bf7bed6-6978-4c4c-beaa-84add5d457f4",
   "metadata": {},
   "outputs": [
    {
     "name": "stdout",
     "output_type": "stream",
     "text": [
      "True\n",
      "False\n"
     ]
    }
   ],
   "source": [
    "n = 7\n",
    "a = 5\n",
    "b = 10\n",
    "comparacion = (n >= a) and (n < b)\n",
    "print(comparacion)\n",
    "\n",
    "n2 = 10\n",
    "comparacion1 = (n2 >=a) and (n2 < b)\n",
    "print(comparacion1)"
   ]
  },
  {
   "cell_type": "markdown",
   "id": "7e26257f-76c7-49cc-9b40-581f5b4fff5b",
   "metadata": {},
   "source": [
    "3.- Escribe un programa que, dado dos strings S1 y S2 y dos números enteros N1 y N2, determine si el substring que en S1 se extiende desde la posición N1 a la N2 (ambos inclusive) está contenido en S2."
   ]
  },
  {
   "cell_type": "code",
   "execution_count": 23,
   "id": "8d427af4-9b56-4e4f-baba-bef8d8e25101",
   "metadata": {},
   "outputs": [
    {
     "name": "stdout",
     "output_type": "stream",
     "text": [
      "s1: 'Machine Learning'\n",
      "s2: 'Desarrollo de Software'\n",
      "Substring de s1 desde 0 hasta 10: 'Machine Lea'\n",
      "El substring está contenido en S2:? False\n",
      "\n",
      "S1: 'Desarrollo web'\n",
      "S2: 'Aprender es clave'\n",
      "Substring de S1 desde 0 hasta 9: 'Desarrollo'\n",
      "El substring está contenido en S2:? False\n"
     ]
    }
   ],
   "source": [
    "s1 = 'Machine Learning'\n",
    "s2 = 'Desarrollo de Software'\n",
    "n1 = 0\n",
    "n2 = 10\n",
    "\n",
    "substring = s1[n1:n2+1]\n",
    "contiene = substring in s2\n",
    "print(f\"s1: '{s1}'\")\n",
    "print(f\"s2: '{s2}'\")\n",
    "print(f\"Substring de s1 desde {n1} hasta {n2}: '{substring}'\")\n",
    "print(f\"El substring está contenido en S2:? {contiene}\")\n",
    "\n",
    "# ----------------------------------------------------------------------------\n",
    "print()\n",
    "S1 = \"Desarrollo web\"\n",
    "S2 = \"Aprender es clave\"\n",
    "N1 = 0\n",
    "N2 = 9 \n",
    "substring_buscado = S1[N1 : N2 + 1]\n",
    "esta_contenido = substring_buscado in S2\n",
    "print(f\"S1: '{S1}'\")\n",
    "print(f\"S2: '{S2}'\")\n",
    "print(f\"Substring de S1 desde {N1} hasta {N2}: '{substring_buscado}'\")\n",
    "print(f\"El substring está contenido en S2:? {esta_contenido}\")\n"
   ]
  },
  {
   "cell_type": "markdown",
   "id": "8434853c-0333-460e-ac62-57eac01a831e",
   "metadata": {},
   "source": [
    "4.- Dada una lista con elementos duplicados, escribir un programa que muestre una nueva lista con el mismo contenido que la primera pero sin elementos duplicados."
   ]
  },
  {
   "cell_type": "code",
   "execution_count": 25,
   "id": "8aa73ee6-e8b2-4463-89ff-772f2d1836e5",
   "metadata": {},
   "outputs": [
    {
     "name": "stdout",
     "output_type": "stream",
     "text": [
      "Lista original:  [1, 1, 2, 2, 3, 3, 4, 4, 5, 5, 6, 7, 8, 9]\n",
      "lista sin duplicar datos:  [1, 2, 3, 4, 5, 6, 7, 8, 9]\n"
     ]
    }
   ],
   "source": [
    "lista = [1,1,2,2,3,3,4,4,5,5,6,7,8,9]\n",
    "# set para eliminar duplicados\n",
    "lista_sin_duplicar = list(set(lista))\n",
    "#imprimir datos\n",
    "print(\"Lista original: \",lista)\n",
    "print(\"lista sin duplicar datos: \",lista_sin_duplicar)"
   ]
  },
  {
   "cell_type": "markdown",
   "id": "7741c316-d421-406f-9836-1c3c9eed6a69",
   "metadata": {},
   "source": [
    "5.- Escribe un programa que, dada una lista de strings L, un string s perteneciente a L y un string t, reemplace s por t en L. El programa debe mostrar la lista resultante por pantalla."
   ]
  },
  {
   "cell_type": "code",
   "execution_count": 5,
   "id": "0a571ba7-5e1e-4e2f-a6ed-d5ea22de8d75",
   "metadata": {},
   "outputs": [
    {
     "name": "stdout",
     "output_type": "stream",
     "text": [
      "Lista original ['Monitor', 'Teclado', 'Mause', 'CPU']\n",
      "Nueva lista  ['Monitor', 'Parlantes', 'Mause', 'CPU']\n"
     ]
    }
   ],
   "source": [
    "L = [\"Monitor\", \"Teclado\", \"Mause\",\"CPU\"]\n",
    "s = \"Teclado\"\n",
    "t = \"Parlantes\"\n",
    "#creo la nueva lista \n",
    "L_nueva = []\n",
    "for i in L:\n",
    "    if i == s:\n",
    "       L_nueva.append(t)\n",
    "    else:\n",
    "        L_nueva.append(i)\n",
    "#mostrar los resultado\n",
    "print(\"Lista original\", L)\n",
    "print(\"Nueva lista \", L_nueva)\n"
   ]
  },
  {
   "cell_type": "markdown",
   "id": "3ecb20b0-a048-4779-9a0c-255895684140",
   "metadata": {},
   "source": [
    "6.- Escribe un programa que defina una tupla con elementos numéricos, reemplace el valor del último por un valor diferente y muestre la tupla por pantalla. Recuerda que las tuplas son inmutables. Tendrás que usar objetos intermedios."
   ]
  },
  {
   "cell_type": "code",
   "execution_count": 8,
   "id": "48610ac8-2dad-45ab-bc12-3fef72b89ee3",
   "metadata": {},
   "outputs": [
    {
     "name": "stdout",
     "output_type": "stream",
     "text": [
      "Tupla Original [5, 10, 15, 20, 25]\n",
      "Tupla Modificada (5, 10, 15, 20, 99)\n"
     ]
    }
   ],
   "source": [
    "tupla = [5,10,15,20,25]\n",
    "#convertir la tupla en ua lista\n",
    "lista1 = list(tupla)\n",
    "#Boy a reemplazar el ultimo valor\n",
    "lista1[-1] = 99\n",
    "#vuelvo a convertir la lista en una tupla\n",
    "tupla2 = tuple(lista1)\n",
    "#Muestro los resultados\n",
    "print(\"Tupla Original\", tupla)\n",
    "print(\"Tupla Modificada\", tupla2)\n"
   ]
  },
  {
   "cell_type": "markdown",
   "id": "5f2d2ac1-e6c3-4ad1-b2d5-4e092db2d3a0",
   "metadata": {},
   "source": [
    "7.- Dada la lista [1,2,3,4,5,6,7,8] escribe un programa que, a partir de esta lista, obtenga la lista [8,6,4,2] y la muestre por pantalla."
   ]
  },
  {
   "cell_type": "code",
   "execution_count": 14,
   "id": "d8c4e2ba-1ddd-48c0-99fe-dc62cd37ed8a",
   "metadata": {},
   "outputs": [
    {
     "name": "stdout",
     "output_type": "stream",
     "text": [
      "Lista original: [1, 2, 3, 4, 5, 6, 7, 8]\n",
      "Lista Modificada: [8, 6, 4, 2]\n"
     ]
    }
   ],
   "source": [
    "lista_original = [1, 2, 3, 4, 5, 6, 7, 8]\n",
    "\n",
    "lista = lista_original[::-2]\n",
    "\n",
    "print(\"Lista original:\", lista_original)\n",
    "print(\"Lista Modificada:\", lista)"
   ]
  },
  {
   "cell_type": "markdown",
   "id": "41b4c4c4-6e3d-4f94-a4b9-cd14e07c3620",
   "metadata": {},
   "source": [
    "8.- Escribe un programa que, dada una tupla y un índice válido i, elimine el elemento de la tupla que se encuentra en la posición i. Para este ejercicio sólo puedes usar objetos de tipo tupla. No puedes convetir la tupla a una lista, por ejemplo."
   ]
  },
  {
   "cell_type": "code",
   "execution_count": 17,
   "id": "1e7bee0d-4b08-47a3-bdd1-83c63fff4182",
   "metadata": {},
   "outputs": [
    {
     "name": "stdout",
     "output_type": "stream",
     "text": [
      "Tupla original [1, 2, 3, 4, 5, 6, 7, 8, 9]\n",
      "Tupla sin elemento indice  3  :  [1, 2, 3, 5, 6, 7, 8, 9]\n"
     ]
    }
   ],
   "source": [
    "tupla = [1,2,3,4,5,6,7,8,9]\n",
    "# creo el indice que quiero eiliminar en este caso 3\n",
    "i = 3\n",
    "#creo una nueva tupla sin el dato de la posicion i (3)\n",
    "nueva_tupla = tupla[:i] + tupla[i+1:]\n",
    "## imprimir resultado\n",
    "print(\"Tupla original\", tupla)\n",
    "print(\"Tupla sin elemento indice \", i , \" : \", nueva_tupla)"
   ]
  },
  {
   "cell_type": "markdown",
   "id": "ab4c651c-d198-4744-aab6-2986adcdf0e9",
   "metadata": {},
   "source": [
    "9.- Escribe un programa que obtenga la mediana de una lista de números. Recuerda que la mediana M de una lista de números L es el número que cumple la siguiente propiedad: la mitad de los números de L son superiores a M y la otra mitad son inferiores. Cuando el número de elementos de L es par, se puede considerar que hay dos medianas. No obstante, en este ejercicio consideraremos que únicamente existe una mediana."
   ]
  },
  {
   "cell_type": "code",
   "execution_count": 19,
   "id": "42434012-891c-4027-9425-2b6f46bccfb3",
   "metadata": {},
   "outputs": [
    {
     "name": "stdout",
     "output_type": "stream",
     "text": [
      "lista ordenada:  [1, 2, 3, 5, 7, 8]\n",
      "Mediana.  5\n"
     ]
    }
   ],
   "source": [
    "L = [7,1,5,3,8,2]\n",
    "#ordeno la lista\n",
    "L_Ordenada = sorted(L)\n",
    "#obtengo la cantidad de elementos\n",
    "cantidad = len(L_Ordenada)\n",
    "#busco calcular el indice ecntral\n",
    "indice_M = cantidad // 2\n",
    "mediana = L_Ordenada[indice_M]\n",
    "#Mostrar resultado\n",
    "print(\"lista ordenada: \", L_Ordenada)\n",
    "print(\"Mediana. \", mediana)"
   ]
  },
  {
   "cell_type": "code",
   "execution_count": null,
   "id": "38ae1eaf-1484-4594-814a-d984a273040f",
   "metadata": {},
   "outputs": [],
   "source": []
  }
 ],
 "metadata": {
  "kernelspec": {
   "display_name": "Python 3 (ipykernel)",
   "language": "python",
   "name": "python3"
  },
  "language_info": {
   "codemirror_mode": {
    "name": "ipython",
    "version": 3
   },
   "file_extension": ".py",
   "mimetype": "text/x-python",
   "name": "python",
   "nbconvert_exporter": "python",
   "pygments_lexer": "ipython3",
   "version": "3.13.5"
  }
 },
 "nbformat": 4,
 "nbformat_minor": 5
}
