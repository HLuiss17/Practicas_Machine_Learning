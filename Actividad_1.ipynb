{
 "cells": [
  {
   "cell_type": "markdown",
   "id": "3e11ccf7-9d7a-4e5e-b313-4c3f764d1c83",
   "metadata": {},
   "source": [
    "<img src=\"img/LogoItq.PNG\">"
   ]
  },
  {
   "cell_type": "markdown",
   "id": "b1b7adc8-41ca-411f-80b2-36c53dd67cf0",
   "metadata": {},
   "source": [
    "# 01 PAO25-25 - PYTHON, Data Types"
   ]
  },
  {
   "cell_type": "markdown",
   "id": "d21b41c9-ca05-4d4b-8c38-c011d72fd6b0",
   "metadata": {},
   "source": [
    "<img src=\"img/PortadaPython.png\">"
   ]
  },
  {
   "cell_type": "markdown",
   "id": "a4e659e2-a6d8-4df7-a087-9e99bbffea01",
   "metadata": {},
   "source": [
    "*Luis Pilaguano*"
   ]
  },
  {
   "cell_type": "markdown",
   "id": "b072062e-244a-4028-a034-2e02d523641d",
   "metadata": {},
   "source": [
    "## **Manaul de ambiente de trabajo de Python - JupyterLab**\n",
    "___\n",
    "El manual de ambiente de trabajo de **Pyton** proporciona una guía básica para iniciar con las herramientas esenciales del lenguaje, Incluyendo el uso de **JupiterLab**.\n",
    "### Descarga e instalación de Anaconda\n",
    "<p>Para comenzar, descarga Anaconda desde la página oficial <a href=\"https://www.anaconda.com/download/success\">anaconda.com</a> Sigue las instrucciones del instalador para configurar tu entorno de Python de forma sencilla y completa.</p>\n",
    "<br>\n",
    "<img src=\"img/anacondaDescargar.PNG\">"
   ]
  },
  {
   "cell_type": "markdown",
   "id": "23c07290-2023-44a5-8bb4-f7f764967744",
   "metadata": {},
   "source": [
    "### **Ejecutar el instalador y configurar Anaconda**\n",
    "Una vez descargado el archivo, ábrelo y sigue las instrucciones en pantalla. Es recomendable instalar Anaconda para “Just Me” y permitir que el instalador agregue Anaconda al PATH para facilitar el uso desde la terminal.\n",
    "![Instalación](img/instalacio1.PNG)\n",
    "### **Pantalla de bienvenida de Anaconda**\n",
    "Al finalizar la instalación, se abrirá automáticamente la página oficial de Anaconda.\n",
    "![Inicio de Anaconda](img/anacondaInicio.PNG)\n",
    "<br>\n",
    "### **Abrir JupyterLab desde Anaconda Navigator**\n",
    "Desde el menú de inicio, abre Anaconda Navigator. Una vez dentro, ubica la herramienta JupyterLab y haz clic en el botón \"Launch\" (Iniciar). Esto abrirá JupyterLab automáticamente en tu navegador predeterminado, listo para empezar a trabajar con notebooks de Python.\n",
    "<br><br>\n",
    "![Inicio JupyterLab](img/InicioJupiterLab.PNG)\n",
    "<br>\n",
    "### **Abre un notebook (Python 3 (ipykernel) desde el Launcher)**\n",
    "1. Haz clic sobre la celda.\n",
    "2. En el menú de arriba, donde dice \"Code\", cámbialo a \"Markdown\".\n",
    "<br>\n",
    "![Markdown](img/Markdown.png)\n",
    "<br>\n",
    "### Ambiente de Trabajo Markdown\n",
    "![Inicio](img/MarkdownInicio.PNG)"
   ]
  },
  {
   "cell_type": "code",
   "execution_count": null,
   "id": "5b788f7a-b1ef-4295-a8c5-d65f4bd251a1",
   "metadata": {},
   "outputs": [],
   "source": []
  }
 ],
 "metadata": {
  "kernelspec": {
   "display_name": "Python 3 (ipykernel)",
   "language": "python",
   "name": "python3"
  },
  "language_info": {
   "codemirror_mode": {
    "name": "ipython",
    "version": 3
   },
   "file_extension": ".py",
   "mimetype": "text/x-python",
   "name": "python",
   "nbconvert_exporter": "python",
   "pygments_lexer": "ipython3",
   "version": "3.13.5"
  }
 },
 "nbformat": 4,
 "nbformat_minor": 5
}
