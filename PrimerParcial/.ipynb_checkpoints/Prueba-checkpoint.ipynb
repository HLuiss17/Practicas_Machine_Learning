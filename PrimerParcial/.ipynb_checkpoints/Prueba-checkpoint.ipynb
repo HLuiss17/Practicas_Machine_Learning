{
 "cells": [
  {
   "cell_type": "markdown",
   "id": "0a9daa51-32c2-4ee3-812c-dd3f4ac728bc",
   "metadata": {},
   "source": [
    "<img src=\"img/LogoItq.PNG\">"
   ]
  },
  {
   "cell_type": "markdown",
   "id": "f579123a-fec6-4269-872a-97e7d720d681",
   "metadata": {},
   "source": [
    "# 01 PAO25-25 - PYTHON, Data Types"
   ]
  },
  {
   "cell_type": "markdown",
   "id": "13eaf7f8-ed48-4015-a14f-53b8418d2547",
   "metadata": {},
   "source": [
    "<img src=\"img/PortadaPython.png\">"
   ]
  },
  {
   "cell_type": "markdown",
   "id": "aa57afef-b022-4ac2-a020-c0e6ab7ba90a",
   "metadata": {},
   "source": [
    "*Luis Pilaguano*"
   ]
  },
  {
   "cell_type": "markdown",
   "id": "94c1bd9c-f9fb-4876-bf2e-b88fb22c1986",
   "metadata": {},
   "source": [
    "# EXAMEN PRACTICO PRIMER PARCIAL"
   ]
  },
  {
   "cell_type": "markdown",
   "id": "b78884f3-8422-498f-8848-fb4dff809b86",
   "metadata": {},
   "source": [
    "### Análisis de rendimiento de estudiantes con validación de datos y control estructurado."
   ]
  },
  {
   "cell_type": "markdown",
   "id": "4ff07f43-7347-420f-9c36-6f3ad3843cf0",
   "metadata": {},
   "source": [
    "### Objetivos"
   ]
  },
  {
   "cell_type": "markdown",
   "id": "92ad9521-117d-4e54-83e8-3427aa28672a",
   "metadata": {},
   "source": [
    "Desarrollar un programa en Python que reciba un conjunto de registros de estudiantes (nombre y lista de notas), e implemente estructuras de control para:"
   ]
  },
  {
   "cell_type": "markdown",
   "id": "d4b91726-d38c-4777-a5b5-c74696162669",
   "metadata": {},
   "source": [
    "- Validar que las notas estén entre 0 y 10 (inclusive)\n",
    "- Calcular el promedio individual\n",
    "- Clasificar al estudiante con base en el promedio usando match o if-elif\n",
    "- Usar control de errores (try/except) para gestionar entradas defectuosas\n",
    "- Al final, mostrar un resumen con:\n",
    "- 1.-  La cantidad de estudiantes aprobados, reprobados y con calificación excelente\n",
    "- 2.- El estudiante con el promedio más alto\n",
    "- 3.- Una lista de estudiantes ordenados por calificación (usando list comprehension con condiciones)\n"
   ]
  },
  {
   "cell_type": "code",
   "execution_count": 13,
   "id": "b76582cd-6fb0-4a4d-908c-31ae5d25025b",
   "metadata": {},
   "outputs": [
    {
     "name": "stdout",
     "output_type": "stream",
     "text": [
      "--- Sistema de Clasificación de Estudiantes ---\n",
      "Escribe 'FIN' para terminar.\n",
      "\n"
     ]
    },
    {
     "name": "stdin",
     "output_type": "stream",
     "text": [
      "Nombre del estudiante lUIS\n",
      "Escribe las notas separadas por coma (NOTAS EN UNA RANGO DE 0-10) 1,1,1,1\n"
     ]
    },
    {
     "name": "stdout",
     "output_type": "stream",
     "text": [
      "lUIS - Promedio: 4.0 - Reprobado\n"
     ]
    },
    {
     "name": "stdin",
     "output_type": "stream",
     "text": [
      "\n",
      "Nombre del siguiente estudiante (o 'FIN')  FIN\n"
     ]
    },
    {
     "name": "stdout",
     "output_type": "stream",
     "text": [
      "\n",
      "--- Resumen Final ---\n",
      "Excelente: 0\n",
      "Aprobado: 0\n",
      "Reprobado: 1\n"
     ]
    }
   ],
   "source": [
    "print(\"--- Sistema de Clasificación de Estudiantes ---\")\n",
    "print(\"Escribe 'FIN' para terminar.\\n\")\n",
    "\n",
    "estudiantes = []\n",
    "nombre = input(\"Nombre del estudiante\")\n",
    "\n",
    "while nombre != \"FIN\":\n",
    "    notas = input(\"Escribe las notas separadas por coma (NOTAS EN UNA RANGO DE 0-10)\")\n",
    "    #separa las notas por un , \n",
    "    notas_lista = notas.split(\",\")\n",
    "    notas_validas = []\n",
    "\n",
    "    for n in notas_lista:\n",
    "        try:\n",
    "            if 0 <= nota <= 10:\n",
    "                notas_validas.append(nota)\n",
    "            else:\n",
    "                print(\"Nota fuera de rango (0-10)\")\n",
    "                notas_validas = []\n",
    "                break\n",
    "        except ValueError:\n",
    "            print(\"Nota no válida.\")\n",
    "            notas_validas = []\n",
    "            break\n",
    "\n",
    "    if not notas_validas:\n",
    "        print(\"Estudiante omitido\")\n",
    "    else:\n",
    "        promedio = sum(notas_validas) / len(notas_validas)\n",
    "\n",
    "        if promedio >= 9:\n",
    "            clasificacion = \"Excelente\"\n",
    "        elif promedio >= 6:\n",
    "            clasificacion = \"Aprobado\"\n",
    "        else:\n",
    "            clasificacion = \"Reprobado\"\n",
    "\n",
    "        print(f\"{nombre} - Promedio: {promedio} - {clasificacion}\")\n",
    "\n",
    "        estudiantes.append({\n",
    "            \"nombre\": nombre,\n",
    "            \"promedio\": promedio,\n",
    "            \"clasificacion\": clasificacion\n",
    "        })\n",
    "\n",
    "    nombre = input(\"\\nNombre del siguiente estudiante (o 'FIN') \")\n",
    "\n",
    "print(\"\\n--- Resumen Final ---\")\n",
    "\n",
    "if estudiantes:\n",
    "    Excelente = sum(1 for e in estudiantes if e[\"clasificacion\"] == \"Excelente\")\n",
    "    Aprobado = sum(1 for e in estudiantes if e[\"clasificacion\"] == \"Aprobado\")\n",
    "    Reprobado = sum(1 for e in estudiantes if e[\"clasificacion\"] == \"Reprobado\")\n",
    "\n",
    "    print(f\"Excelente: {Excelente}\")\n",
    "    print(f\"Aprobado: {Aprobado}\")\n",
    "    print(f\"Reprobado: {Reprobado}\")\n",
    "else:\n",
    "    print(\"No se ingresaron estudiantes válidos.\")\n"
   ]
  },
  {
   "cell_type": "markdown",
   "id": "d43d2139-7262-4c76-a34c-66a7e7df6b78",
   "metadata": {},
   "source": [
    "## Antecedentes/Escenario"
   ]
  },
  {
   "cell_type": "markdown",
   "id": "3df18099-972e-4565-a6c9-54627b9efa6b",
   "metadata": {},
   "source": [
    "En la programación real, los desarrolladores frecuentemente se enfrentan a la necesidad de validar y procesar datos provenientes de diversas fuentes. Una de las tareas comunes en aplicaciones académicas o administrativas es el manejo de registros de estudiantes, los cuales pueden incluir calificaciones, observaciones y clasificaciones. Estas tareas requieren no solo cálculos, sino también una adecuada estructuración del control del flujo del programa para gestionar condiciones, errores y decisiones lógicas."
   ]
  },
  {
   "cell_type": "markdown",
   "id": "0ba77087-74e8-4a08-92d1-823c5382b5ab",
   "metadata": {},
   "source": [
    "El lenguaje Python proporciona herramientas sólidas para el manejo de este tipo de escenarios a través de estructuras de control como sentencias condicionales (if, elif, else), bucles iterativos (for, while), control de flujo con break y continue, el uso del bloque try/except para el tratamiento de excepciones, así como expresiones compactas como las list comprehensions. Estas herramientas permiten construir programas robustos y eficientes para el análisis y manipulación de datos.\n",
    "Además, Python incorpora una estructura moderna como match-case, que permite implementar una lógica condicional similar al switch en otros lenguajes, haciendo el código más limpio y expresivo al clasificar o tomar decisiones según múltiples posibles valores."
   ]
  },
  {
   "cell_type": "markdown",
   "id": "d0fc6cc2-90b6-4d94-9712-3c121be08e3d",
   "metadata": {},
   "source": [
    "En este ejercicio práctico, se integran todas estas capacidades para desarrollar un sistema de clasificación de estudiantes basado en sus calificaciones. El objetivo es aplicar de forma conjunta los conocimientos sobre estructuras de control, manejo de errores y procesamiento de datos, abordando problemas típicos de entrada, validación, clasificación y salida de resultados. Esta actividad representa un caso aplicado de desarrollo lógico secuencial con validación de datos, ideal para consolidar los conocimientos adquiridos en la unidad sobre estructuras de control."
   ]
  },
  {
   "cell_type": "markdown",
   "id": "8f2caecd-c7c6-4d23-8364-db2dbe62760c",
   "metadata": {},
   "source": [
    "### Desarrollo"
   ]
  },
  {
   "cell_type": "markdown",
   "id": "3e972f8b-a0c9-4138-821b-1577f10f7212",
   "metadata": {},
   "source": [
    "- El programa solicitará datos hasta que se ingrese \"FIN\" como nombre del estudiante.\n",
    "- Por cada estudiante se ingresarán varias notas separadas por coma. Si alguna nota no es numérica o no está en el rango, se mostrará un mensaje y se omite ese estudiante.\n",
    "-  La clasificación de desempeño será:"
   ]
  },
  {
   "cell_type": "markdown",
   "id": "0f100c90-0769-493a-b210-f9788115952f",
   "metadata": {},
   "source": [
    "- \"Excelente\" si el promedio es mayor o igual a 9\n",
    "- \"Aprobado\" si el promedio está entre 6 y 8.99\n",
    "- \"Reprobado\" si el promedio es menor a 6"
   ]
  },
  {
   "cell_type": "markdown",
   "id": "19dc8412-4bd3-40cf-ba47-49fce9cc1d1a",
   "metadata": {},
   "source": [
    "[Git Hub](https://github.com/HLuiss17/Practicas_Machine_Learning/blob/main/Prueba.ipynb)"
   ]
  },
  {
   "cell_type": "code",
   "execution_count": null,
   "id": "31ad8a2b-6ab1-4639-802f-e7330d5d6e9b",
   "metadata": {},
   "outputs": [],
   "source": []
  }
 ],
 "metadata": {
  "kernelspec": {
   "display_name": "Python 3 (ipykernel)",
   "language": "python",
   "name": "python3"
  },
  "language_info": {
   "codemirror_mode": {
    "name": "ipython",
    "version": 3
   },
   "file_extension": ".py",
   "mimetype": "text/x-python",
   "name": "python",
   "nbconvert_exporter": "python",
   "pygments_lexer": "ipython3",
   "version": "3.13.5"
  }
 },
 "nbformat": 4,
 "nbformat_minor": 5
}
