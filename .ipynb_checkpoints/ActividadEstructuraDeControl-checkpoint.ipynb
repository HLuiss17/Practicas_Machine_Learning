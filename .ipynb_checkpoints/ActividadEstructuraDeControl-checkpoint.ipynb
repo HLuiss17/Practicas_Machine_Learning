{
 "cells": [
  {
   "cell_type": "markdown",
   "id": "078d3d7c-6273-42ed-b70b-900ea77063e9",
   "metadata": {},
   "source": [
    "<img src=\"img/LogoItq.PNG\">"
   ]
  },
  {
   "cell_type": "markdown",
   "id": "82a2bf0e-fa25-424b-9f7f-7df74d6700f9",
   "metadata": {},
   "source": [
    "# 01 PAO25-25 - PYTHON, Data Types"
   ]
  },
  {
   "cell_type": "markdown",
   "id": "3cec5d70-3fe1-4805-a002-6a6343a61082",
   "metadata": {},
   "source": [
    "<img src=\"img/PortadaPython.png\">"
   ]
  },
  {
   "cell_type": "markdown",
   "id": "cd283e86-672e-4b50-a49f-2bcbb816077f",
   "metadata": {},
   "source": [
    "*Luis Pilaguano*"
   ]
  },
  {
   "cell_type": "markdown",
   "id": "2a8f91c5-9584-4507-a667-2fcdac17fe4c",
   "metadata": {},
   "source": [
    "## Ejercicios"
   ]
  },
  {
   "cell_type": "markdown",
   "id": "9f015b39-31bd-4501-88b1-916695cf39c0",
   "metadata": {},
   "source": [
    "1.- Escribe un programa que calcule la suma de todos los elementos de una lista dada. La lista sólo puede contener elementos numéricos."
   ]
  },
  {
   "cell_type": "code",
   "execution_count": 3,
   "id": "56f77b04-484a-4aa7-93e7-1163da29dd94",
   "metadata": {},
   "outputs": [
    {
     "name": "stdout",
     "output_type": "stream",
     "text": [
      "Suma total 15\n"
     ]
    }
   ],
   "source": [
    "numeros = [1,2,3,4,5]\n",
    "suma = sum(numeros)\n",
    "print(f\"Suma total {suma}\")"
   ]
  },
  {
   "cell_type": "markdown",
   "id": "c379c012-d82f-4d03-8c20-3f7ee7c67e5d",
   "metadata": {},
   "source": [
    "1.- Dada una lista con elementos duplicados, escribir un programa que muestre una nueva lista con el mismo contenido que la primera pero sin elementos duplicados. Para este ejercicio, no puedes hacer uso de objetos de tipo 'Set'."
   ]
  },
  {
   "cell_type": "code",
   "execution_count": 5,
   "id": "bd91173c-4bf3-4719-8fb1-c8e552e99647",
   "metadata": {},
   "outputs": [
    {
     "name": "stdout",
     "output_type": "stream",
     "text": [
      "Lista sin duplicados [1, 2, 3, 4, 5]\n"
     ]
    }
   ],
   "source": [
    "lista = [1,2,2,3,4,5,5]\n",
    "nueva_lista = []\n",
    "for elemento in lista:\n",
    "    if elemento not in nueva_lista:\n",
    "        nueva_lista.append(elemento)\n",
    "print(f\"Lista sin duplicados {nueva_lista}\")"
   ]
  },
  {
   "cell_type": "markdown",
   "id": "f64d43da-b7c5-48c8-b5e1-7ba6347f8e81",
   "metadata": {},
   "source": [
    "3.- Escribe un programa que construya un diccionario que contenga un número (entre 1 y n) de elementos de esta forma: (x, x*x). Ejemplo: para n = 5, el diccionario resultante sería {1: 1, 2: 4, 3: 9, 4: 16, 5: 25}"
   ]
  },
  {
   "cell_type": "code",
   "execution_count": 6,
   "id": "08d570d2-56bb-4df6-b222-e89e0c1d3ed2",
   "metadata": {},
   "outputs": [
    {
     "name": "stdout",
     "output_type": "stream",
     "text": [
      "{1: 1, 2: 4, 3: 9, 4: 16, 5: 25}\n"
     ]
    }
   ],
   "source": [
    "n = 5\n",
    "num = {x: x * x for x in range(1, n + 1)}\n",
    "print(num)"
   ]
  },
  {
   "cell_type": "markdown",
   "id": "4b4ca7f3-1e2b-439d-bad5-ef841bd9bd58",
   "metadata": {},
   "source": [
    "4.- Escribe un programa que, dada una lista de palabras, compruebe si alguna empieza por 'a' y tiene más de 9 caracteres. Si dicha palabra existe, el programa deberá terminar en el momento exacto de encontrarla. El programa también debe mostrar un mensaje apropiado por pantalla que indique el éxito o el fracaso de la búsqueda. En caso de éxito, también se mostrará por pantalla la palabra encontrada."
   ]
  },
  {
   "cell_type": "code",
   "execution_count": null,
   "id": "5c984745-bf12-4cff-823c-992094254849",
   "metadata": {},
   "outputs": [],
   "source": [
    "##\n"
   ]
  },
  {
   "cell_type": "markdown",
   "id": "9752f941-e69f-4f99-9d2f-4e016bb9f63b",
   "metadata": {},
   "source": [
    "5.- Dada una lista L de números positivos, escribir un programa que muestre otra lista (ordenada) que contenga todo índice i que cumpla la siguiente condición: L[i] es múltiplo de 3. Por ejemplo, dada la lista L = [3,5,13,12,1,9] el programa mostrará la lista [0,3,5] dado que L[0], L[3] y L[5] son, respectivamente, 3, 12 y 9, que son los únicos múltiplos de 3 que hay en L.\n",
    "\n"
   ]
  },
  {
   "cell_type": "code",
   "execution_count": 7,
   "id": "3acf0d8e-4464-4ce4-a1b9-e04429c0d7e0",
   "metadata": {},
   "outputs": [
    {
     "name": "stdout",
     "output_type": "stream",
     "text": [
      "Índices con múltiplos de 3: [0, 3, 5]\n"
     ]
    }
   ],
   "source": [
    "L = [3, 5, 13, 12, 1, 9]\n",
    "indices = [i for i in range(len(L)) if L[i] % 3 == 0]\n",
    "print(\"Índices con múltiplos de 3 \", sorted(indices))\n"
   ]
  },
  {
   "cell_type": "markdown",
   "id": "c3034c57-f154-466f-a3b0-c1e27cb7602d",
   "metadata": {},
   "source": [
    "6.- Dado un diccionario cuyos elementos son pares de tipo string y numérico (es decir, las claves son de tipo 'str' y los valores son de tipo 'int' o 'float'), escribe un programa que muestre por pantalla la clave cuyo valor asociado representa el valor númerico más alto de todo el diccionario. Por ejemplo, para el diccionario {'a': 4.3, 'b': 1, 'c': 7.8, 'd': -5} la respuesta sería 'c', dado que 7.8 es el valor más alto de los números 4.3, 1, 7.8 y -5."
   ]
  },
  {
   "cell_type": "code",
   "execution_count": 8,
   "id": "ce26cb5a-6821-48a1-8859-a69385cfb19e",
   "metadata": {},
   "outputs": [
    {
     "name": "stdout",
     "output_type": "stream",
     "text": [
      "Clave con el valor máximo: c\n"
     ]
    }
   ],
   "source": [
    "d = {'a': 4.3, 'b': 1, 'c': 7.8, 'd': -5}\n",
    "clave_max = max(d, key=d.get)\n",
    "print(\"Clave con el valor máximo \", clave_max)\n"
   ]
  },
  {
   "cell_type": "markdown",
   "id": "672ce182-089e-41d6-90f5-a0c3f0d55e59",
   "metadata": {},
   "source": [
    "7.- Dada la lista a = [2, 4, 6, 8] y la lista b = [7, 11, 15, 22], escribe un programa que itere las listas a y b y multiplique cada elemento de a que sea mayor que 5 por cada elemento de b que sea menor que 14. El programa debe mostrar los resultados por pantalla."
   ]
  },
  {
   "cell_type": "code",
   "execution_count": 9,
   "id": "9c09fbc1-1509-45ce-8303-e01ef525e4e5",
   "metadata": {},
   "outputs": [
    {
     "name": "stdout",
     "output_type": "stream",
     "text": [
      "6 * 7 = 42\n",
      "6 * 11 = 66\n",
      "8 * 7 = 56\n",
      "8 * 11 = 88\n"
     ]
    }
   ],
   "source": [
    "a = [2, 4, 6, 8]\n",
    "b = [7, 11, 15, 22]\n",
    "\n",
    "for num_a in a:\n",
    "    if num_a > 5:\n",
    "        for num_b in b:\n",
    "            if num_b < 14:\n",
    "                print(f\"{num_a} * {num_b} = {num_a * num_b}\")\n"
   ]
  },
  {
   "cell_type": "markdown",
   "id": "5a539721-9161-46ed-8284-148bf8b85456",
   "metadata": {},
   "source": [
    "8.- Escribir un programa que pida un valor numérico X al usuario. Para ello podéis hacer uso de la función predefinida 'input'. El programa deberá mostrar por pantalla el resultado de la división 10/X. En caso de que el usuario introduzca valores no apropiados, el programa deberá gestionar correctamente las excepciones, por ejemplo, mostrando mensajes informativos por pantalla."
   ]
  },
  {
   "cell_type": "code",
   "execution_count": 10,
   "id": "7d31ebd0-f84e-47eb-92f7-6cf8dffd7641",
   "metadata": {},
   "outputs": [
    {
     "name": "stdin",
     "output_type": "stream",
     "text": [
      "Ingresa un número:  6\n"
     ]
    },
    {
     "name": "stdout",
     "output_type": "stream",
     "text": [
      "Resultado: 1.6666666666666667\n"
     ]
    }
   ],
   "source": [
    "try:\n",
    "    x = float(input(\"Ingresa un número\"))\n",
    "    resultado = 10 / x\n",
    "    print(\"Resultado \", resultado)\n",
    "except ValueError:\n",
    "    print(\"Por favor ingresa un número válido\")\n",
    "except ZeroDivisionError:\n",
    "    print(\"No se puede dividir por cero\")\n"
   ]
  },
  {
   "cell_type": "markdown",
   "id": "6d2a0c31-20c3-4671-9591-1011c88129d0",
   "metadata": {},
   "source": [
    "9.- Escribir un programa que cree un diccionario cualquiera. Posteriormente, el programa pedirá al usuario (a través de la función predefinida 'input') que introduzca una clave del diccionario. Si la clave introducida es correcta (es decir, existe en el diccionario), el programa mostrará por pantalla el valor asociado a dicha clave. En caso de que la clave no exista, el programa gestionará de manera apropiada el error, por ejemplo, mostrando un mensaje informativo al usuario."
   ]
  },
  {
   "cell_type": "code",
   "execution_count": 12,
   "id": "58a71dd4-dde5-4bfd-bad8-c05f0d12c306",
   "metadata": {},
   "outputs": [
    {
     "name": "stdin",
     "output_type": "stream",
     "text": [
      "Introduce una clave del diccionario  nombre\n"
     ]
    },
    {
     "name": "stdout",
     "output_type": "stream",
     "text": [
      "Valor asociado  Luis\n"
     ]
    }
   ],
   "source": [
    "diccionario = {'nombre': 'Luis', 'edad': 26, 'pais': 'Ecuador'}\n",
    "clave = input(\"Introduce una clave del diccionario \")\n",
    "\n",
    "if clave in diccionario:\n",
    "    print(\"Valor asociado \", diccionario[clave])\n",
    "else:\n",
    "    print(\"Esa clave no existe en el diccionario\")\n"
   ]
  },
  {
   "cell_type": "markdown",
   "id": "17e1c73e-1a43-4235-b34e-b1def2443cc0",
   "metadata": {},
   "source": [
    "10.- Escribe una list comprehension que construya una lista con los números enteros positivos de una lista de números dada. La lista original puede incluir números de tipo float, los cuales deben ser descartados.\n",
    "\n"
   ]
  },
  {
   "cell_type": "code",
   "execution_count": 16,
   "id": "cfe065a7-433d-4c7c-b924-e2cf5c37fd13",
   "metadata": {},
   "outputs": [
    {
     "name": "stdout",
     "output_type": "stream",
     "text": [
      "[1, 4, 6, 8]\n"
     ]
    }
   ],
   "source": [
    "numeros = [1, -2, 3.5, 4, -5.0, 6, 0, 7.2, 8]\n",
    "positivos = [n for n in numeros if n > 0 and int(n) == n]\n",
    "print(positivos)\n",
    "\n"
   ]
  },
  {
   "cell_type": "markdown",
   "id": "f1ee47e9-f5a5-4a77-bd00-df6fc474c19a",
   "metadata": {},
   "source": [
    "11.- Escribe una set comprehension que, dada una palabra, construya un conjunto que contenga las vocales de dicha palabra."
   ]
  },
  {
   "cell_type": "code",
   "execution_count": 17,
   "id": "55e9ebd2-e054-4616-b321-3e58d4fc43b4",
   "metadata": {},
   "outputs": [
    {
     "name": "stdout",
     "output_type": "stream",
     "text": [
      "{'o', 'a', 'i'}\n"
     ]
    }
   ],
   "source": [
    "palabra = \"Programacion\"\n",
    "vocales = {letra for letra in palabra if letra in 'aeiou'}\n",
    "print(vocales)\n"
   ]
  },
  {
   "cell_type": "markdown",
   "id": "8779f995-844f-4410-b0a2-30092789dd02",
   "metadata": {},
   "source": [
    "12.- Escribe una list comprehension que construya una lista con todos los números del 0 al 50 que contengan el dígito 3. El resultado será: [3, 13, 23, 30, 31, 32, 33, 34, 35, 36, 37, 38, 39, 43]."
   ]
  },
  {
   "cell_type": "code",
   "execution_count": 22,
   "id": "8c361bb4-bf02-4fce-b0cd-1a021486f2da",
   "metadata": {},
   "outputs": [
    {
     "name": "stdout",
     "output_type": "stream",
     "text": [
      "[3, 13, 23, 30, 31, 32, 33, 34, 35, 36, 37, 38, 39, 43]\n"
     ]
    }
   ],
   "source": [
    "numeros = [x for x in range(51) if '3' in str(x)]\n",
    "print(numeros)\n"
   ]
  },
  {
   "cell_type": "markdown",
   "id": "7fa45e28-1a02-4c82-9768-c9b020e81025",
   "metadata": {},
   "source": [
    "13.- Escribe una dictionary comprehension que construya un diccionario que incluya los tamaños de cada palabra en una frase dada. Ejemplo: el resultado para la frase \"Soy un ser humano\" será {'Soy': 3, 'un': 2, 'ser': 3, 'humano': 6}"
   ]
  },
  {
   "cell_type": "code",
   "execution_count": 23,
   "id": "17db0647-621c-45ea-903d-6775d5a26c04",
   "metadata": {},
   "outputs": [
    {
     "name": "stdout",
     "output_type": "stream",
     "text": [
      "{'Soy': 17, 'un': 17, 'ser': 17, 'humano': 17}\n"
     ]
    }
   ],
   "source": [
    "frase = \"Soy un ser humano\"\n",
    "palabra_frase = {palabra: len(frase) for palabra in frase.split()}\n",
    "print(palabra_frase)\n"
   ]
  },
  {
   "cell_type": "markdown",
   "id": "64dffa28-d5cd-4cfd-9844-071574b3a2e2",
   "metadata": {},
   "source": [
    "14.- Escribe una list comprehension que construya una lista que incluya todos los números del 1 al 10 en orden. La primera mitad se mostrarán en formato numérico; la segunda mitad en texto. Es decir, el resultado será: [1, 2, 3, 4, 5, 'seis', 'siete', 'ocho', 'nueve', 'diez']."
   ]
  },
  {
   "cell_type": "code",
   "execution_count": 25,
   "id": "635c8d59-82fe-4597-bcea-7f8a1d1ab043",
   "metadata": {},
   "outputs": [
    {
     "name": "stdout",
     "output_type": "stream",
     "text": [
      "[1, 2, 3, 4, 5, 'seis', 'siete', 'ocho', 'nueve', 'diez']\n"
     ]
    }
   ],
   "source": [
    "texto = ['seis', 'siete', 'ocho', 'nueve', 'diez']\n",
    "resultado = [x for x in range(1, 6)] + texto\n",
    "print(resultado)\n",
    "\n"
   ]
  },
  {
   "cell_type": "code",
   "execution_count": null,
   "id": "1882b6f9-6620-43e0-a072-7072d46b4051",
   "metadata": {},
   "outputs": [],
   "source": []
  }
 ],
 "metadata": {
  "kernelspec": {
   "display_name": "Python 3 (ipykernel)",
   "language": "python",
   "name": "python3"
  },
  "language_info": {
   "codemirror_mode": {
    "name": "ipython",
    "version": 3
   },
   "file_extension": ".py",
   "mimetype": "text/x-python",
   "name": "python",
   "nbconvert_exporter": "python",
   "pygments_lexer": "ipython3",
   "version": "3.13.5"
  }
 },
 "nbformat": 4,
 "nbformat_minor": 5
}
