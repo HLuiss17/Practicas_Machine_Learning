{
 "cells": [
  {
   "cell_type": "markdown",
   "id": "f51f08c6-65cc-4b52-a6f7-29805d14b5f0",
   "metadata": {},
   "source": [
    "<img src=\"img/LogoItq.PNG\">"
   ]
  },
  {
   "cell_type": "markdown",
   "id": "577d5dad-de55-4dc0-a70c-4eda08150b69",
   "metadata": {},
   "source": [
    "# 01 PAO25-25 - PYTHON, Data Types"
   ]
  },
  {
   "cell_type": "markdown",
   "id": "73622f08-749e-4111-adf0-c128a89b190c",
   "metadata": {},
   "source": [
    "<img src=\"img/PortadaPython.png\">"
   ]
  },
  {
   "cell_type": "markdown",
   "id": "ac1d6844-1a27-4f93-93fd-1a3d2d6c01fc",
   "metadata": {},
   "source": [
    "*Luis Pilaguano*"
   ]
  },
  {
   "cell_type": "markdown",
   "id": "9f1339b8-7ab7-4f33-85b9-8f3b06cbc235",
   "metadata": {},
   "source": [
    "### Ejercicios\n",
    "1.- Escribe un programa que muestre por pantalla la concatenación de un número y una cadena de caracteres. Para obtener esta concatenación puedes usar uno de los operadores explicados en este tema. Ejemplo: dado el número 3 y la cadena 'abc', el programa mostrará la cadena '3abc'.\n",
    "\n"
   ]
  },
  {
   "cell_type": "code",
   "execution_count": 3,
   "id": "9de80c96-b652-4bd7-9e2b-cf80251518df",
   "metadata": {},
   "outputs": [
    {
     "name": "stdout",
     "output_type": "stream",
     "text": [
      "Resultado de la concatenación: 17abc\n"
     ]
    }
   ],
   "source": [
    "numeros = 17\n",
    "cadena = 'abc'\n",
    "numero_Cadena = str(numeros) + cadena\n",
    "print('Resultado de la concatenación: '+ numero_Cadena)"
   ]
  },
  {
   "cell_type": "markdown",
   "id": "92d3c6c8-f2ad-4d47-806b-8a58ba665394",
   "metadata": {},
   "source": [
    "2.- Escribe un programa que muestre por pantalla un valor booleano que indique si un número entero N está contenido en un intervalo semiabierto [a,b), el cual establece una cota inferior a (inclusive) y una cota superior b (exclusive) para N."
   ]
  },
  {
   "cell_type": "code",
   "execution_count": 13,
   "id": "3bf7bed6-6978-4c4c-beaa-84add5d457f4",
   "metadata": {},
   "outputs": [
    {
     "name": "stdout",
     "output_type": "stream",
     "text": [
      "True\n",
      "False\n"
     ]
    }
   ],
   "source": [
    "n = 7\n",
    "a = 5\n",
    "b = 10\n",
    "comparacion = (n >= a) and (n < b)\n",
    "print(comparacion)\n",
    "\n",
    "n2 = 10\n",
    "comparacion1 = (n2 >=a) and (n2 < b)\n",
    "print(comparacion1)"
   ]
  },
  {
   "cell_type": "markdown",
   "id": "7e26257f-76c7-49cc-9b40-581f5b4fff5b",
   "metadata": {},
   "source": [
    "3.- Escribe un programa que, dado dos strings S1 y S2 y dos números enteros N1 y N2, determine si el substring que en S1 se extiende desde la posición N1 a la N2 (ambos inclusive) está contenido en S2."
   ]
  },
  {
   "cell_type": "code",
   "execution_count": 17,
   "id": "8d427af4-9b56-4e4f-baba-bef8d8e25101",
   "metadata": {},
   "outputs": [
    {
     "name": "stdout",
     "output_type": "stream",
     "text": [
      "s1: 'Machine Learning'\n",
      "s2: 'Desarrollo de Software'\n",
      "Substring de s1 desde 0 hasta 10: 'Machine Lea'\n",
      "El substring esta en s2:? False\n",
      "\n",
      "S1: 'Desarrollo web'\n",
      "S2: 'Aprender es clave'\n",
      "Substring de S1 desde 0 hasta 9: 'Desarrollo'\n",
      "¿El substring está contenido en S2? False\n"
     ]
    }
   ],
   "source": [
    "s1 = 'Machine Learning'\n",
    "s2 = 'Desarrollo de Software'\n",
    "n1 = 0\n",
    "n2 = 10\n",
    "\n",
    "substring = s1[n1:n2+1]\n",
    "contiene = substring in s2\n",
    "print(f\"s1: '{s1}'\")\n",
    "print(f\"s2: '{s2}'\")\n",
    "print(f\"Substring de s1 desde {n1} hasta {n2}: '{substring}'\")\n",
    "print(f\"El substring está contenido en S2:? {contiene}\")\n",
    "\n",
    "# ----------------------------------------------------------------------------\n",
    "# Otro ejemplo donde no está contenido\n",
    "S1 = \"Desarrollo web\"\n",
    "S2 = \"Aprender es clave\"\n",
    "N1 = 0\n",
    "N2 = 9 \n",
    "substring_buscado = S1[N1 : N2 + 1]\n",
    "esta_contenido = substring_buscado in S2\n",
    "print(f\"\\nS1: '{S1}'\")\n",
    "print(f\"S2: '{S2}'\")\n",
    "print(f\"Substring de S1 desde {N1} hasta {N2}: '{substring_buscado}'\")\n",
    "print(f\"El substring está contenido en S2:? {esta_contenido}\")\n"
   ]
  },
  {
   "cell_type": "code",
   "execution_count": null,
   "id": "3ca3088b-88f3-40cd-9e2c-92d19ede8177",
   "metadata": {},
   "outputs": [],
   "source": []
  }
 ],
 "metadata": {
  "kernelspec": {
   "display_name": "Python 3 (ipykernel)",
   "language": "python",
   "name": "python3"
  },
  "language_info": {
   "codemirror_mode": {
    "name": "ipython",
    "version": 3
   },
   "file_extension": ".py",
   "mimetype": "text/x-python",
   "name": "python",
   "nbconvert_exporter": "python",
   "pygments_lexer": "ipython3",
   "version": "3.13.5"
  }
 },
 "nbformat": 4,
 "nbformat_minor": 5
}
